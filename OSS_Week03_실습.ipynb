{
  "nbformat": 4,
  "nbformat_minor": 0,
  "metadata": {
    "colab": {
      "provenance": []
    },
    "kernelspec": {
      "name": "python3",
      "display_name": "Python 3"
    },
    "language_info": {
      "name": "python"
    }
  },
  "cells": [
    {
      "cell_type": "code",
      "execution_count": 55,
      "metadata": {
        "id": "_EqQevyh7cy-",
        "colab": {
          "base_uri": "https://localhost:8080/"
        },
        "outputId": "a9e17adc-0e14-4fbe-edd0-be856d0cb3d0"
      },
      "outputs": [
        {
          "output_type": "stream",
          "name": "stdout",
          "text": [
            "서재민\n",
            "20222027\n"
          ]
        }
      ],
      "source": [
        "# 본인의 이름, 학번을 작성하여 실행하세요.\n",
        "print(\"서재민\")\n",
        "print(\"20222027\")"
      ]
    },
    {
      "cell_type": "markdown",
      "source": [
        "## 이후 강의 PDF 예제 내용을 작성하여 실행하세요."
      ],
      "metadata": {
        "id": "m1FrI_-670e1"
      }
    },
    {
      "cell_type": "code",
      "source": [
        "# 예제1\n",
        "class MyCollection:\n",
        "  def __getitem__(self, key):\n",
        "    return f\"Value for {key}\"\n",
        "\n",
        "collection = MyCollection()\n",
        "print(collection.__getitem__(3))\n",
        "print(collection[3])"
      ],
      "metadata": {
        "id": "DK8jS1KQ7z37",
        "colab": {
          "base_uri": "https://localhost:8080/"
        },
        "outputId": "ec597949-0b0b-4eb9-bc5b-dac86fe21494"
      },
      "execution_count": 80,
      "outputs": [
        {
          "output_type": "stream",
          "name": "stdout",
          "text": [
            "Value for 3\n",
            "Value for 3\n"
          ]
        }
      ]
    },
    {
      "cell_type": "code",
      "source": [
        "# 예제2\n",
        "import collections\n",
        "\n",
        "Card = collections.namedtuple('Card', ['rank', 'suit'])\n",
        "\n",
        "class FrenchDeck:\n",
        "  ranks = [str(n) for n in range(2,11)] + list('JQKA')\n",
        "  suits = 'spades diamonds clubs hearts'.split()\n",
        "\n",
        "  def __init__(self):\n",
        "    self._cards = [Card(rank, suit) for suit in self.suits\n",
        "                   for rank in self.ranks]\n",
        "  def __len__(self):\n",
        "    return len(self._cards)\n",
        "  def __getitem__(self, position):\n",
        "    return self._cards[position]"
      ],
      "metadata": {
        "id": "ydRM7Mzg79XF"
      },
      "execution_count": 81,
      "outputs": []
    },
    {
      "cell_type": "code",
      "source": [
        "# 예제3\n",
        "beer_card = Card('7', 'diamonds')\n",
        "beer_card\n",
        "\n",
        "Card(rank='7', suit='diamonds')"
      ],
      "metadata": {
        "colab": {
          "base_uri": "https://localhost:8080/"
        },
        "id": "VDnPIyYl8zA1",
        "outputId": "22dd7662-9a18-4e12-f3ac-d3c9f2f17122"
      },
      "execution_count": 58,
      "outputs": [
        {
          "output_type": "execute_result",
          "data": {
            "text/plain": [
              "Card(rank='7', suit='diamonds')"
            ]
          },
          "metadata": {},
          "execution_count": 58
        }
      ]
    },
    {
      "cell_type": "code",
      "source": [
        "# 예제4\n",
        "deck = FrenchDeck()\n",
        "print(f\"Ranks: {deck.ranks}\")\n",
        "print(f\"len: {len(deck)}\")"
      ],
      "metadata": {
        "colab": {
          "base_uri": "https://localhost:8080/"
        },
        "id": "-FCc_JlX88HU",
        "outputId": "49f7c6d7-c02a-499f-fd5e-2f81762a4f94"
      },
      "execution_count": 59,
      "outputs": [
        {
          "output_type": "stream",
          "name": "stdout",
          "text": [
            "Ranks: ['2', '3', '4', '5', '6', '7', '8', '9', '10', 'J', 'Q', 'K', 'A']\n",
            "len: 52\n"
          ]
        }
      ]
    },
    {
      "cell_type": "code",
      "source": [
        "# 예제5\n",
        "print(deck[0])\n",
        "print(deck[-1])"
      ],
      "metadata": {
        "colab": {
          "base_uri": "https://localhost:8080/"
        },
        "id": "cTF41Noq9J39",
        "outputId": "8a04baf4-60a5-4d40-cd6a-743a20f65230"
      },
      "execution_count": 60,
      "outputs": [
        {
          "output_type": "stream",
          "name": "stdout",
          "text": [
            "Card(rank='2', suit='spades')\n",
            "Card(rank='A', suit='hearts')\n"
          ]
        }
      ]
    },
    {
      "cell_type": "code",
      "source": [
        "# 예제6\n",
        "from random import choice\n",
        "print(choice(deck))\n",
        "print(choice(deck))\n",
        "print(choice(deck))"
      ],
      "metadata": {
        "colab": {
          "base_uri": "https://localhost:8080/"
        },
        "id": "yOdWP4w_9Pi3",
        "outputId": "a698275d-f40a-4c8e-8137-18bb82f2d470"
      },
      "execution_count": 61,
      "outputs": [
        {
          "output_type": "stream",
          "name": "stdout",
          "text": [
            "Card(rank='2', suit='diamonds')\n",
            "Card(rank='7', suit='diamonds')\n",
            "Card(rank='4', suit='hearts')\n"
          ]
        }
      ]
    },
    {
      "cell_type": "code",
      "source": [
        "# 예제7\n",
        "deck[:3]"
      ],
      "metadata": {
        "colab": {
          "base_uri": "https://localhost:8080/"
        },
        "id": "OCZ2vcPU9WZw",
        "outputId": "a47be58a-3155-4422-9633-68243187e4d4"
      },
      "execution_count": 62,
      "outputs": [
        {
          "output_type": "execute_result",
          "data": {
            "text/plain": [
              "[Card(rank='2', suit='spades'),\n",
              " Card(rank='3', suit='spades'),\n",
              " Card(rank='4', suit='spades')]"
            ]
          },
          "metadata": {},
          "execution_count": 62
        }
      ]
    },
    {
      "cell_type": "code",
      "source": [
        "# 예제8\n",
        "deck[12::13]"
      ],
      "metadata": {
        "colab": {
          "base_uri": "https://localhost:8080/"
        },
        "id": "QFu8oYSR9ZyX",
        "outputId": "5bc51f73-d8b0-46a8-d454-32ea10a0c7c6"
      },
      "execution_count": 63,
      "outputs": [
        {
          "output_type": "execute_result",
          "data": {
            "text/plain": [
              "[Card(rank='A', suit='spades'),\n",
              " Card(rank='A', suit='diamonds'),\n",
              " Card(rank='A', suit='clubs'),\n",
              " Card(rank='A', suit='hearts')]"
            ]
          },
          "metadata": {},
          "execution_count": 63
        }
      ]
    },
    {
      "cell_type": "code",
      "source": [
        "# 예제9\n",
        "for card in deck:\n",
        "  print(card)"
      ],
      "metadata": {
        "colab": {
          "base_uri": "https://localhost:8080/"
        },
        "id": "Z0Amb0Rb9cfx",
        "outputId": "e6759c45-f3f6-46f4-c1f3-5d080a37050b"
      },
      "execution_count": 64,
      "outputs": [
        {
          "output_type": "stream",
          "name": "stdout",
          "text": [
            "Card(rank='2', suit='spades')\n",
            "Card(rank='3', suit='spades')\n",
            "Card(rank='4', suit='spades')\n",
            "Card(rank='5', suit='spades')\n",
            "Card(rank='6', suit='spades')\n",
            "Card(rank='7', suit='spades')\n",
            "Card(rank='8', suit='spades')\n",
            "Card(rank='9', suit='spades')\n",
            "Card(rank='10', suit='spades')\n",
            "Card(rank='J', suit='spades')\n",
            "Card(rank='Q', suit='spades')\n",
            "Card(rank='K', suit='spades')\n",
            "Card(rank='A', suit='spades')\n",
            "Card(rank='2', suit='diamonds')\n",
            "Card(rank='3', suit='diamonds')\n",
            "Card(rank='4', suit='diamonds')\n",
            "Card(rank='5', suit='diamonds')\n",
            "Card(rank='6', suit='diamonds')\n",
            "Card(rank='7', suit='diamonds')\n",
            "Card(rank='8', suit='diamonds')\n",
            "Card(rank='9', suit='diamonds')\n",
            "Card(rank='10', suit='diamonds')\n",
            "Card(rank='J', suit='diamonds')\n",
            "Card(rank='Q', suit='diamonds')\n",
            "Card(rank='K', suit='diamonds')\n",
            "Card(rank='A', suit='diamonds')\n",
            "Card(rank='2', suit='clubs')\n",
            "Card(rank='3', suit='clubs')\n",
            "Card(rank='4', suit='clubs')\n",
            "Card(rank='5', suit='clubs')\n",
            "Card(rank='6', suit='clubs')\n",
            "Card(rank='7', suit='clubs')\n",
            "Card(rank='8', suit='clubs')\n",
            "Card(rank='9', suit='clubs')\n",
            "Card(rank='10', suit='clubs')\n",
            "Card(rank='J', suit='clubs')\n",
            "Card(rank='Q', suit='clubs')\n",
            "Card(rank='K', suit='clubs')\n",
            "Card(rank='A', suit='clubs')\n",
            "Card(rank='2', suit='hearts')\n",
            "Card(rank='3', suit='hearts')\n",
            "Card(rank='4', suit='hearts')\n",
            "Card(rank='5', suit='hearts')\n",
            "Card(rank='6', suit='hearts')\n",
            "Card(rank='7', suit='hearts')\n",
            "Card(rank='8', suit='hearts')\n",
            "Card(rank='9', suit='hearts')\n",
            "Card(rank='10', suit='hearts')\n",
            "Card(rank='J', suit='hearts')\n",
            "Card(rank='Q', suit='hearts')\n",
            "Card(rank='K', suit='hearts')\n",
            "Card(rank='A', suit='hearts')\n"
          ]
        }
      ]
    },
    {
      "cell_type": "code",
      "source": [
        "# 예제10\n",
        "for card in reversed(deck):\n",
        "  print(card)"
      ],
      "metadata": {
        "colab": {
          "base_uri": "https://localhost:8080/"
        },
        "id": "3Wte6vzv9jSx",
        "outputId": "29087ebf-1669-432c-f2ff-20721869ee88"
      },
      "execution_count": 65,
      "outputs": [
        {
          "output_type": "stream",
          "name": "stdout",
          "text": [
            "Card(rank='A', suit='hearts')\n",
            "Card(rank='K', suit='hearts')\n",
            "Card(rank='Q', suit='hearts')\n",
            "Card(rank='J', suit='hearts')\n",
            "Card(rank='10', suit='hearts')\n",
            "Card(rank='9', suit='hearts')\n",
            "Card(rank='8', suit='hearts')\n",
            "Card(rank='7', suit='hearts')\n",
            "Card(rank='6', suit='hearts')\n",
            "Card(rank='5', suit='hearts')\n",
            "Card(rank='4', suit='hearts')\n",
            "Card(rank='3', suit='hearts')\n",
            "Card(rank='2', suit='hearts')\n",
            "Card(rank='A', suit='clubs')\n",
            "Card(rank='K', suit='clubs')\n",
            "Card(rank='Q', suit='clubs')\n",
            "Card(rank='J', suit='clubs')\n",
            "Card(rank='10', suit='clubs')\n",
            "Card(rank='9', suit='clubs')\n",
            "Card(rank='8', suit='clubs')\n",
            "Card(rank='7', suit='clubs')\n",
            "Card(rank='6', suit='clubs')\n",
            "Card(rank='5', suit='clubs')\n",
            "Card(rank='4', suit='clubs')\n",
            "Card(rank='3', suit='clubs')\n",
            "Card(rank='2', suit='clubs')\n",
            "Card(rank='A', suit='diamonds')\n",
            "Card(rank='K', suit='diamonds')\n",
            "Card(rank='Q', suit='diamonds')\n",
            "Card(rank='J', suit='diamonds')\n",
            "Card(rank='10', suit='diamonds')\n",
            "Card(rank='9', suit='diamonds')\n",
            "Card(rank='8', suit='diamonds')\n",
            "Card(rank='7', suit='diamonds')\n",
            "Card(rank='6', suit='diamonds')\n",
            "Card(rank='5', suit='diamonds')\n",
            "Card(rank='4', suit='diamonds')\n",
            "Card(rank='3', suit='diamonds')\n",
            "Card(rank='2', suit='diamonds')\n",
            "Card(rank='A', suit='spades')\n",
            "Card(rank='K', suit='spades')\n",
            "Card(rank='Q', suit='spades')\n",
            "Card(rank='J', suit='spades')\n",
            "Card(rank='10', suit='spades')\n",
            "Card(rank='9', suit='spades')\n",
            "Card(rank='8', suit='spades')\n",
            "Card(rank='7', suit='spades')\n",
            "Card(rank='6', suit='spades')\n",
            "Card(rank='5', suit='spades')\n",
            "Card(rank='4', suit='spades')\n",
            "Card(rank='3', suit='spades')\n",
            "Card(rank='2', suit='spades')\n"
          ]
        }
      ]
    },
    {
      "cell_type": "code",
      "source": [
        "# 예제11\n",
        "suit_values = dict(spades=3, hearts=2, diamonds=1, clubs=0)\n",
        "\n",
        "def spades_high(card):\n",
        "  rank_value = FrenchDeck.ranks.index(card.rank)\n",
        "  return rank_value * len(suit_values) + suit_values[card.suit]\n",
        "\n",
        "spades_high(beer_card)\n"
      ],
      "metadata": {
        "colab": {
          "base_uri": "https://localhost:8080/"
        },
        "id": "47Iqk86i9njo",
        "outputId": "0a59e9b8-7190-4a26-d037-6d15c010ff17"
      },
      "execution_count": 66,
      "outputs": [
        {
          "output_type": "execute_result",
          "data": {
            "text/plain": [
              "21"
            ]
          },
          "metadata": {},
          "execution_count": 66
        }
      ]
    },
    {
      "cell_type": "code",
      "source": [
        "for card in sorted(deck, key=spades_high):\n",
        "  print('The rank of {} is {}.'.format(card, spades_high(card)))"
      ],
      "metadata": {
        "colab": {
          "base_uri": "https://localhost:8080/"
        },
        "id": "7wHc26RS-hzH",
        "outputId": "55b5ca0b-45a8-4aa9-bad7-aeb4d0b8f7eb"
      },
      "execution_count": 74,
      "outputs": [
        {
          "output_type": "stream",
          "name": "stdout",
          "text": [
            "The rank of Card(rank='2', suit='clubs') is 0.\n",
            "The rank of Card(rank='2', suit='diamonds') is 1.\n",
            "The rank of Card(rank='2', suit='hearts') is 2.\n",
            "The rank of Card(rank='2', suit='spades') is 3.\n",
            "The rank of Card(rank='3', suit='clubs') is 4.\n",
            "The rank of Card(rank='3', suit='diamonds') is 5.\n",
            "The rank of Card(rank='3', suit='hearts') is 6.\n",
            "The rank of Card(rank='3', suit='spades') is 7.\n",
            "The rank of Card(rank='4', suit='clubs') is 8.\n",
            "The rank of Card(rank='4', suit='diamonds') is 9.\n",
            "The rank of Card(rank='4', suit='hearts') is 10.\n",
            "The rank of Card(rank='4', suit='spades') is 11.\n",
            "The rank of Card(rank='5', suit='clubs') is 12.\n",
            "The rank of Card(rank='5', suit='diamonds') is 13.\n",
            "The rank of Card(rank='5', suit='hearts') is 14.\n",
            "The rank of Card(rank='5', suit='spades') is 15.\n",
            "The rank of Card(rank='6', suit='clubs') is 16.\n",
            "The rank of Card(rank='6', suit='diamonds') is 17.\n",
            "The rank of Card(rank='6', suit='hearts') is 18.\n",
            "The rank of Card(rank='6', suit='spades') is 19.\n",
            "The rank of Card(rank='7', suit='clubs') is 20.\n",
            "The rank of Card(rank='7', suit='diamonds') is 21.\n",
            "The rank of Card(rank='7', suit='hearts') is 22.\n",
            "The rank of Card(rank='7', suit='spades') is 23.\n",
            "The rank of Card(rank='8', suit='clubs') is 24.\n",
            "The rank of Card(rank='8', suit='diamonds') is 25.\n",
            "The rank of Card(rank='8', suit='hearts') is 26.\n",
            "The rank of Card(rank='8', suit='spades') is 27.\n",
            "The rank of Card(rank='9', suit='clubs') is 28.\n",
            "The rank of Card(rank='9', suit='diamonds') is 29.\n",
            "The rank of Card(rank='9', suit='hearts') is 30.\n",
            "The rank of Card(rank='9', suit='spades') is 31.\n",
            "The rank of Card(rank='10', suit='clubs') is 32.\n",
            "The rank of Card(rank='10', suit='diamonds') is 33.\n",
            "The rank of Card(rank='10', suit='hearts') is 34.\n",
            "The rank of Card(rank='10', suit='spades') is 35.\n",
            "The rank of Card(rank='J', suit='clubs') is 36.\n",
            "The rank of Card(rank='J', suit='diamonds') is 37.\n",
            "The rank of Card(rank='J', suit='hearts') is 38.\n",
            "The rank of Card(rank='J', suit='spades') is 39.\n",
            "The rank of Card(rank='Q', suit='clubs') is 40.\n",
            "The rank of Card(rank='Q', suit='diamonds') is 41.\n",
            "The rank of Card(rank='Q', suit='hearts') is 42.\n",
            "The rank of Card(rank='Q', suit='spades') is 43.\n",
            "The rank of Card(rank='K', suit='clubs') is 44.\n",
            "The rank of Card(rank='K', suit='diamonds') is 45.\n",
            "The rank of Card(rank='K', suit='hearts') is 46.\n",
            "The rank of Card(rank='K', suit='spades') is 47.\n",
            "The rank of Card(rank='A', suit='clubs') is 48.\n",
            "The rank of Card(rank='A', suit='diamonds') is 49.\n",
            "The rank of Card(rank='A', suit='hearts') is 50.\n",
            "The rank of Card(rank='A', suit='spades') is 51.\n"
          ]
        }
      ]
    },
    {
      "cell_type": "code",
      "source": [
        "# 예제12\n",
        "from math import hypot\n",
        "\n",
        "class Vector:\n",
        "  def __init__(self, x=0, y=0):\n",
        "    self.x = x\n",
        "    self.y = y\n",
        "\n",
        "  def __repr__(self):\n",
        "    return 'Vector(%r, %r)' % (self.x, self.y)\n",
        "\n",
        "  def __abs__(self):\n",
        "    return hypot(self.x, self.y)\n",
        "\n",
        "  def __bool__(self):\n",
        "    return bool(abs(self))\n",
        "\n",
        "  def __add__(self, other):\n",
        "    x = self.x + other.x\n",
        "    y = self.y + other.y\n",
        "    return Vector(x, y)\n",
        "\n",
        "  def __mul__(self, scalar):\n",
        "    return Vector(self.x * scalar, self.y * scalar)"
      ],
      "metadata": {
        "id": "qTksHrAb-kyy"
      },
      "execution_count": 75,
      "outputs": []
    },
    {
      "cell_type": "code",
      "source": [
        "v = Vector(3, 4)\n",
        "abs(v)"
      ],
      "metadata": {
        "colab": {
          "base_uri": "https://localhost:8080/"
        },
        "id": "wOVYcVtIBf1x",
        "outputId": "e0670e89-7982-43fd-e31b-f3352b7a6b4f"
      },
      "execution_count": 76,
      "outputs": [
        {
          "output_type": "execute_result",
          "data": {
            "text/plain": [
              "5.0"
            ]
          },
          "metadata": {},
          "execution_count": 76
        }
      ]
    },
    {
      "cell_type": "code",
      "source": [
        "v * 3\n",
        "abs(v * 3)"
      ],
      "metadata": {
        "colab": {
          "base_uri": "https://localhost:8080/"
        },
        "id": "mFz2G3htCXjp",
        "outputId": "dfb287b4-4033-4eb5-9dec-edf872d6bee2"
      },
      "execution_count": 77,
      "outputs": [
        {
          "output_type": "execute_result",
          "data": {
            "text/plain": [
              "15.0"
            ]
          },
          "metadata": {},
          "execution_count": 77
        }
      ]
    },
    {
      "cell_type": "code",
      "source": [
        "v1 = Vector(2, 4)\n",
        "v2 = Vector(2, 1)\n",
        "v1 + v2"
      ],
      "metadata": {
        "colab": {
          "base_uri": "https://localhost:8080/"
        },
        "id": "gHg63qoXChiG",
        "outputId": "2c9479be-882a-4447-c7be-681d6c04811e"
      },
      "execution_count": 78,
      "outputs": [
        {
          "output_type": "execute_result",
          "data": {
            "text/plain": [
              "Vector(4, 5)"
            ]
          },
          "metadata": {},
          "execution_count": 78
        }
      ]
    },
    {
      "cell_type": "code",
      "source": [
        "# 예제13\n",
        "v"
      ],
      "metadata": {
        "colab": {
          "base_uri": "https://localhost:8080/"
        },
        "id": "lWvnvp0JDYZd",
        "outputId": "08553428-7f15-40da-f7ef-15e918670733"
      },
      "execution_count": 79,
      "outputs": [
        {
          "output_type": "execute_result",
          "data": {
            "text/plain": [
              "Vector(3, 4)"
            ]
          },
          "metadata": {},
          "execution_count": 79
        }
      ]
    }
  ]
}